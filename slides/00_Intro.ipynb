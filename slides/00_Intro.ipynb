{
 "cells": [
  {
   "cell_type": "markdown",
   "metadata": {
    "slideshow": {
     "slide_type": "slide"
    }
   },
   "source": [
    "# Future Talk\n",
    "\n",
    "\n",
    "## Visualizing and Debugging the Training of Deep Neural Networks\n",
    "\n",
    "\n",
    "\n",
    "by Adrian Wälchli\n"
   ]
  },
  {
   "cell_type": "code",
   "execution_count": 1,
   "metadata": {},
   "outputs": [
    {
     "data": {
      "text/plain": [
       "'1.1.0'"
      ]
     },
     "execution_count": 1,
     "metadata": {},
     "output_type": "execute_result"
    }
   ],
   "source": [
    "import torch\n",
    "torch.__version__"
   ]
  },
  {
   "cell_type": "markdown",
   "metadata": {
    "slideshow": {
     "slide_type": "slide"
    }
   },
   "source": [
    "## Topics\n",
    "\n",
    "- Introduction to Weights and Biases\n",
    "    - Error Curves\n",
    "    - Images\n",
    "    - Histograms\n",
    "    - Tables\n",
    "    - Hyperparameter Tracking\n",
    "\n"
   ]
  },
  {
   "cell_type": "markdown",
   "metadata": {
    "slideshow": {
     "slide_type": "subslide"
    }
   },
   "source": [
    "- Best Practices\n",
    "    - Managing Runs\n",
    "    - Datasets\n",
    "    - Checkpointing and Resuming\n",
    "    - Multi-GPU\n",
    "    - Miscellaneous Tipps and Tricks"
   ]
  },
  {
   "cell_type": "markdown",
   "metadata": {
    "slideshow": {
     "slide_type": "subslide"
    }
   },
   "source": [
    "- Debugging Neural Networks\n",
    "    - Input and Output\n",
    "    - Batch Normalization\n",
    "    - Dropout\n",
    "    - Classification Caveats\n",
    "    - Gradients\n",
    "    - Adversarial Examples"
   ]
  },
  {
   "cell_type": "markdown",
   "metadata": {
    "slideshow": {
     "slide_type": "slide"
    }
   },
   "source": [
    "### Let's start easy ...\n",
    "\n",
    "with the good old [MNIST](./01_MNIST.ipynb) example!"
   ]
  },
  {
   "cell_type": "markdown",
   "metadata": {
    "slideshow": {
     "slide_type": "slide"
    }
   },
   "source": [
    "### What It Should Look Like\n",
    "\n",
    "#### Logging metrics in different runs\n",
    "<img src=\"./figures/logging2.png\" width=\"80%\"/>"
   ]
  },
  {
   "cell_type": "markdown",
   "metadata": {
    "slideshow": {
     "slide_type": "subslide"
    }
   },
   "source": [
    "#### Plotting error curves\n",
    "<img src=\"./figures/logging1.png\" width=\"50%\"/>"
   ]
  },
  {
   "cell_type": "markdown",
   "metadata": {
    "slideshow": {
     "slide_type": "subslide"
    }
   },
   "source": [
    "#### Visualizing and exploring data\n",
    "<img src=\"./figures/logging3.png\" width=\"50%\"/>"
   ]
  },
  {
   "cell_type": "markdown",
   "metadata": {
    "slideshow": {
     "slide_type": "slide"
    }
   },
   "source": [
    "### Weights & Biases\n",
    "##### Double You and Bee\n",
    "1. Sign up with GitHub or Google Account at https://www.wandb.com\n",
    "2. Copy the API key\n",
    "3. Log in\n",
    "```\n",
    "conda activate pytorch-demo\n",
    "wandb login API_KEY\n",
    "```\n",
    "4. Create a project\n",
    "\n",
    "\n",
    "See also: https://docs.wandb.com/"
   ]
  },
  {
   "cell_type": "markdown",
   "metadata": {
    "slideshow": {
     "slide_type": "slide"
    }
   },
   "source": [
    "### Usage\n",
    "\n",
    "Call the ```init``` function once to setup your run."
   ]
  },
  {
   "cell_type": "code",
   "execution_count": 2,
   "metadata": {
    "slideshow": {
     "slide_type": "-"
    }
   },
   "outputs": [
    {
     "name": "stdout",
     "output_type": "stream",
     "text": [
      "W&B Run: https://app.wandb.ai/awaelchli/pytorch-demo/runs/gijm3ivl\n",
      "Call `%%wandb` in the cell containing your training loop to display live results.\n"
     ]
    },
    {
     "data": {
      "text/plain": [
       "W&B Run: https://app.wandb.ai/awaelchli/pytorch-demo/runs/gijm3ivl"
      ]
     },
     "execution_count": 2,
     "metadata": {},
     "output_type": "execute_result"
    }
   ],
   "source": [
    "import wandb\n",
    "\n",
    "wandb.init(\n",
    "    name='Introduction to W & B', \n",
    "    config=dict(),  \n",
    "    project='pytorch-demo', \n",
    "    tags=['baseline'],\n",
    "    dir='./runs',\n",
    "    entity='awaelchli',\n",
    "    group='slides',\n",
    "    resume=False,\n",
    ")"
   ]
  },
  {
   "cell_type": "markdown",
   "metadata": {
    "slideshow": {
     "slide_type": "slide"
    }
   },
   "source": [
    "### Config\n",
    "Keeping track of training parameters is easy!"
   ]
  },
  {
   "cell_type": "code",
   "execution_count": 3,
   "metadata": {
    "scrolled": true,
    "slideshow": {
     "slide_type": "-"
    }
   },
   "outputs": [],
   "source": [
    "wandb.config.batch_size = 16\n",
    "wandb.config.epochs = 5"
   ]
  },
  {
   "cell_type": "code",
   "execution_count": 4,
   "metadata": {},
   "outputs": [],
   "source": [
    "wandb.config.update({\n",
    "    'learning_rate': 1e-3,\n",
    "    'batch_norm': True,\n",
    "})\n",
    "\n",
    "#print(wandb.config)"
   ]
  },
  {
   "cell_type": "markdown",
   "metadata": {
    "slideshow": {
     "slide_type": "subslide"
    }
   },
   "source": [
    "Even better: Pass your existing ```argparse``` flags to wandb!"
   ]
  },
  {
   "cell_type": "code",
   "execution_count": 5,
   "metadata": {
    "slideshow": {
     "slide_type": "-"
    }
   },
   "outputs": [],
   "source": [
    "import argparse\n",
    "import sys\n",
    "sys.argv = ['demo']\n",
    "parser = argparse.ArgumentParser()\n",
    "parser.add_argument('--image_height', type=int, default=128)\n",
    "args = parser.parse_args()\n",
    "\n",
    "wandb.config.update(args)  # adds all of the arguments as config variables\n",
    "#print(wandb.config)"
   ]
  },
  {
   "cell_type": "markdown",
   "metadata": {
    "slideshow": {
     "slide_type": "slide"
    }
   },
   "source": [
    "### Plotting the Error Curve"
   ]
  },
  {
   "cell_type": "code",
   "execution_count": 7,
   "metadata": {
    "scrolled": true
   },
   "outputs": [
    {
     "name": "stderr",
     "output_type": "stream",
     "text": [
      "wandb: WARNING Adding to old History rows isn't currently supported.  Step 0 < 50 dropping: {'loss': tensor([0.6435]), 'accuracy': tensor([0.2708])}\n",
      "wandb: WARNING Adding to old History rows isn't currently supported.  Step 1 < 50 dropping: {'loss': tensor([0.0594]), 'accuracy': tensor([0.8021])}\n",
      "wandb: WARNING Adding to old History rows isn't currently supported.  Step 2 < 50 dropping: {'loss': tensor([0.2163]), 'accuracy': tensor([0.6423])}\n",
      "wandb: WARNING Adding to old History rows isn't currently supported.  Step 3 < 50 dropping: {'loss': tensor([0.0923]), 'accuracy': tensor([0.1399])}\n",
      "wandb: WARNING Adding to old History rows isn't currently supported.  Step 4 < 50 dropping: {'loss': tensor([0.8104]), 'accuracy': tensor([0.0228])}\n",
      "wandb: WARNING Adding to old History rows isn't currently supported.  Step 5 < 50 dropping: {'loss': tensor([0.5831]), 'accuracy': tensor([0.4584])}\n",
      "wandb: WARNING Adding to old History rows isn't currently supported.  Step 6 < 50 dropping: {'loss': tensor([0.8813]), 'accuracy': tensor([0.4243])}\n",
      "wandb: WARNING Adding to old History rows isn't currently supported.  Step 7 < 50 dropping: {'loss': tensor([0.1432]), 'accuracy': tensor([0.2625])}\n",
      "wandb: WARNING Adding to old History rows isn't currently supported.  Step 8 < 50 dropping: {'loss': tensor([0.0803]), 'accuracy': tensor([0.9003])}\n",
      "wandb: WARNING Adding to old History rows isn't currently supported.  Step 9 < 50 dropping: {'loss': tensor([0.0017]), 'accuracy': tensor([0.4546])}\n",
      "wandb: WARNING Adding to old History rows isn't currently supported.  Step 10 < 50 dropping: {'loss': tensor([0.1705]), 'accuracy': tensor([0.2121])}\n",
      "wandb: WARNING Adding to old History rows isn't currently supported.  Step 11 < 50 dropping: {'loss': tensor([0.4666]), 'accuracy': tensor([0.2940])}\n",
      "wandb: WARNING Adding to old History rows isn't currently supported.  Step 12 < 50 dropping: {'loss': tensor([0.9029]), 'accuracy': tensor([0.8120])}\n",
      "wandb: WARNING Adding to old History rows isn't currently supported.  Step 13 < 50 dropping: {'loss': tensor([0.8219]), 'accuracy': tensor([0.2109])}\n",
      "wandb: WARNING Adding to old History rows isn't currently supported.  Step 14 < 50 dropping: {'loss': tensor([0.5425]), 'accuracy': tensor([0.5903])}\n",
      "wandb: WARNING Adding to old History rows isn't currently supported.  Step 15 < 50 dropping: {'loss': tensor([0.2550]), 'accuracy': tensor([0.3549])}\n",
      "wandb: WARNING Adding to old History rows isn't currently supported.  Step 16 < 50 dropping: {'loss': tensor([0.6459]), 'accuracy': tensor([0.1832])}\n",
      "wandb: WARNING Adding to old History rows isn't currently supported.  Step 17 < 50 dropping: {'loss': tensor([0.1820]), 'accuracy': tensor([0.9941])}\n",
      "wandb: WARNING Adding to old History rows isn't currently supported.  Step 18 < 50 dropping: {'loss': tensor([0.8622]), 'accuracy': tensor([0.4780])}\n",
      "wandb: WARNING Adding to old History rows isn't currently supported.  Step 19 < 50 dropping: {'loss': tensor([0.9119]), 'accuracy': tensor([0.7847])}\n",
      "wandb: WARNING Adding to old History rows isn't currently supported.  Step 20 < 50 dropping: {'loss': tensor([0.6322]), 'accuracy': tensor([0.8717])}\n",
      "wandb: WARNING Adding to old History rows isn't currently supported.  Step 21 < 50 dropping: {'loss': tensor([0.8388]), 'accuracy': tensor([0.6268])}\n",
      "wandb: WARNING Adding to old History rows isn't currently supported.  Step 22 < 50 dropping: {'loss': tensor([0.6135]), 'accuracy': tensor([0.7415])}\n",
      "wandb: WARNING Adding to old History rows isn't currently supported.  Step 23 < 50 dropping: {'loss': tensor([0.6461]), 'accuracy': tensor([0.7573])}\n",
      "wandb: WARNING Adding to old History rows isn't currently supported.  Step 24 < 50 dropping: {'loss': tensor([0.0939]), 'accuracy': tensor([0.2729])}\n",
      "wandb: WARNING Adding to old History rows isn't currently supported.  Step 25 < 50 dropping: {'loss': tensor([0.8822]), 'accuracy': tensor([0.6046])}\n",
      "wandb: WARNING Adding to old History rows isn't currently supported.  Step 26 < 50 dropping: {'loss': tensor([0.0684]), 'accuracy': tensor([0.0711])}\n",
      "wandb: WARNING Adding to old History rows isn't currently supported.  Step 27 < 50 dropping: {'loss': tensor([0.0294]), 'accuracy': tensor([0.6676])}\n",
      "wandb: WARNING Adding to old History rows isn't currently supported.  Step 28 < 50 dropping: {'loss': tensor([0.9182]), 'accuracy': tensor([0.4990])}\n",
      "wandb: WARNING Adding to old History rows isn't currently supported.  Step 29 < 50 dropping: {'loss': tensor([0.1445]), 'accuracy': tensor([0.1566])}\n",
      "wandb: WARNING Adding to old History rows isn't currently supported.  Step 30 < 50 dropping: {'loss': tensor([0.6339]), 'accuracy': tensor([0.8753])}\n",
      "wandb: WARNING Adding to old History rows isn't currently supported.  Step 31 < 50 dropping: {'loss': tensor([0.1787]), 'accuracy': tensor([0.9901])}\n",
      "wandb: WARNING Adding to old History rows isn't currently supported.  Step 32 < 50 dropping: {'loss': tensor([0.6751]), 'accuracy': tensor([0.1338])}\n",
      "wandb: WARNING Adding to old History rows isn't currently supported.  Step 33 < 50 dropping: {'loss': tensor([0.2501]), 'accuracy': tensor([0.9049])}\n",
      "wandb: WARNING Adding to old History rows isn't currently supported.  Step 34 < 50 dropping: {'loss': tensor([0.8131]), 'accuracy': tensor([0.5393])}\n",
      "wandb: WARNING Adding to old History rows isn't currently supported.  Step 35 < 50 dropping: {'loss': tensor([0.4526]), 'accuracy': tensor([0.5133])}\n",
      "wandb: WARNING Adding to old History rows isn't currently supported.  Step 36 < 50 dropping: {'loss': tensor([0.4882]), 'accuracy': tensor([0.7835])}\n",
      "wandb: WARNING Adding to old History rows isn't currently supported.  Step 37 < 50 dropping: {'loss': tensor([0.7904]), 'accuracy': tensor([0.4453])}\n",
      "wandb: WARNING Adding to old History rows isn't currently supported.  Step 38 < 50 dropping: {'loss': tensor([0.3949]), 'accuracy': tensor([0.6689])}\n",
      "wandb: WARNING Adding to old History rows isn't currently supported.  Step 39 < 50 dropping: {'loss': tensor([0.0106]), 'accuracy': tensor([0.0114])}\n",
      "wandb: WARNING Adding to old History rows isn't currently supported.  Step 40 < 50 dropping: {'loss': tensor([0.1058]), 'accuracy': tensor([0.3913])}\n",
      "wandb: WARNING Adding to old History rows isn't currently supported.  Step 41 < 50 dropping: {'loss': tensor([0.4589]), 'accuracy': tensor([0.7064])}\n",
      "wandb: WARNING Adding to old History rows isn't currently supported.  Step 42 < 50 dropping: {'loss': tensor([0.8292]), 'accuracy': tensor([0.2638])}\n",
      "wandb: WARNING Adding to old History rows isn't currently supported.  Step 43 < 50 dropping: {'loss': tensor([0.0633]), 'accuracy': tensor([0.3815])}\n",
      "wandb: WARNING Adding to old History rows isn't currently supported.  Step 44 < 50 dropping: {'loss': tensor([0.0575]), 'accuracy': tensor([0.4472])}\n",
      "wandb: WARNING Adding to old History rows isn't currently supported.  Step 45 < 50 dropping: {'loss': tensor([0.3853]), 'accuracy': tensor([0.2193])}\n",
      "wandb: WARNING Adding to old History rows isn't currently supported.  Step 46 < 50 dropping: {'loss': tensor([0.3020]), 'accuracy': tensor([0.5691])}\n",
      "wandb: WARNING Adding to old History rows isn't currently supported.  Step 47 < 50 dropping: {'loss': tensor([0.1611]), 'accuracy': tensor([0.7790])}\n",
      "wandb: WARNING Adding to old History rows isn't currently supported.  Step 48 < 50 dropping: {'loss': tensor([0.2378]), 'accuracy': tensor([0.7889])}\n",
      "wandb: WARNING Adding to old History rows isn't currently supported.  Step 49 < 50 dropping: {'loss': tensor([0.8484]), 'accuracy': tensor([0.1930])}\n"
     ]
    }
   ],
   "source": [
    "#%%wandb\n",
    "\n",
    "for it in range(50):\n",
    "    # ... some deep learning stuff here ...\n",
    "    \n",
    "    wandb.log({'loss': torch.rand(1), 'accuracy': torch.rand(1)}, step=it)\n"
   ]
  },
  {
   "cell_type": "code",
   "execution_count": null,
   "metadata": {},
   "outputs": [],
   "source": []
  }
 ],
 "metadata": {
  "celltoolbar": "Slideshow",
  "kernelspec": {
   "display_name": "Python 3",
   "language": "python",
   "name": "python3"
  },
  "language_info": {
   "codemirror_mode": {
    "name": "ipython",
    "version": 3
   },
   "file_extension": ".py",
   "mimetype": "text/x-python",
   "name": "python",
   "nbconvert_exporter": "python",
   "pygments_lexer": "ipython3",
   "version": "3.7.3"
  }
 },
 "nbformat": 4,
 "nbformat_minor": 2
}

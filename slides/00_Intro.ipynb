{
 "cells": [
  {
   "cell_type": "markdown",
   "metadata": {
    "slideshow": {
     "slide_type": "slide"
    }
   },
   "source": [
    "# Future Talk\n",
    "\n",
    "\n",
    "## Monitoring and Debugging Deep Neural Networks\n",
    "\n",
    "\n",
    "\n",
    "by Adrian Wälchli\n"
   ]
  },
  {
   "cell_type": "code",
   "execution_count": 1,
   "metadata": {},
   "outputs": [
    {
     "data": {
      "text/plain": [
       "'1.1.0'"
      ]
     },
     "execution_count": 1,
     "metadata": {},
     "output_type": "execute_result"
    }
   ],
   "source": [
    "import torch\n",
    "torch.__version__"
   ]
  },
  {
   "cell_type": "markdown",
   "metadata": {
    "slideshow": {
     "slide_type": "slide"
    }
   },
   "source": [
    "## Topics\n",
    "\n",
    "- Introduction to Weights and Biases\n",
    "    - Error Curves\n",
    "    - Images\n",
    "    - Histograms\n",
    "    - Hyperparameter Tracking\n",
    "\n"
   ]
  },
  {
   "cell_type": "markdown",
   "metadata": {
    "slideshow": {
     "slide_type": "subslide"
    }
   },
   "source": [
    "- Best Practices\n",
    "    - Managing Runs\n",
    "    - Datasets\n",
    "    - Checkpointing and Resuming\n",
    "    - Multi-GPU\n",
    "    - Miscellaneous Tipps and Tricks"
   ]
  },
  {
   "cell_type": "markdown",
   "metadata": {
    "slideshow": {
     "slide_type": "subslide"
    }
   },
   "source": [
    "- Debugging Neural Networks\n",
    "    - Input and Output\n",
    "    - Batch Normalization\n",
    "    - Dropout\n",
    "    - Classification Caveats\n",
    "    - Gradients\n",
    "    - Adversarial Examples"
   ]
  },
  {
   "cell_type": "markdown",
   "metadata": {
    "slideshow": {
     "slide_type": "slide"
    }
   },
   "source": [
    "### Let's start easy ...\n",
    "\n",
    "with the good old [MNIST](./01_MNIST_Basic.ipynb) example!"
   ]
  },
  {
   "cell_type": "markdown",
   "metadata": {
    "slideshow": {
     "slide_type": "slide"
    }
   },
   "source": [
    "### What It Should Look Like\n",
    "\n",
    "#### Logging metrics in different runs\n",
    "<img src=\"./figures/logging2.png\" width=\"80%\"/>"
   ]
  },
  {
   "cell_type": "markdown",
   "metadata": {
    "slideshow": {
     "slide_type": "subslide"
    }
   },
   "source": [
    "#### Plotting error curves\n",
    "<img src=\"./figures/logging1.png\" width=\"50%\"/>"
   ]
  },
  {
   "cell_type": "markdown",
   "metadata": {
    "slideshow": {
     "slide_type": "subslide"
    }
   },
   "source": [
    "#### Visualizing and exploring data\n",
    "<img src=\"./figures/logging3.png\" width=\"50%\"/>"
   ]
  },
  {
   "cell_type": "markdown",
   "metadata": {
    "slideshow": {
     "slide_type": "slide"
    }
   },
   "source": [
    "### Weights & Biases\n",
    "##### Double You and Bee\n",
    "1. Sign up with GitHub or Google Account at https://www.wandb.com\n",
    "2. Copy the API key\n",
    "3. Log in\n",
    "```\n",
    "conda activate pytorch-demo\n",
    "wandb login API_KEY\n",
    "```\n",
    "4. Create a project\n",
    "\n",
    "\n",
    "See also: https://docs.wandb.com/"
   ]
  },
  {
   "cell_type": "markdown",
   "metadata": {
    "slideshow": {
     "slide_type": "slide"
    }
   },
   "source": [
    "### Usage\n",
    "\n",
    "Call the ```init``` function once to setup your run."
   ]
  },
  {
   "cell_type": "code",
   "execution_count": 17,
   "metadata": {
    "slideshow": {
     "slide_type": "-"
    }
   },
   "outputs": [
    {
     "data": {
      "text/html": [
       "\n",
       "        Notebook configured with <a href=\"https://wandb.com\" target=\"_blank\">W&B</a>. You can <a href=\"https://app.wandb.ai/awaelchli/pytorch-demo/runs/dj5bl507\" target=\"_blank\">open</a> the run page, or call <code>%%wandb</code>\n",
       "        in a cell containing your training loop to display live results.  Learn more in our <a href=\"https://docs.wandb.com/docs/integrations/jupyter.html\" target=\"_blank\">docs</a>.\n",
       "    "
      ],
      "text/plain": [
       "<IPython.core.display.HTML object>"
      ]
     },
     "metadata": {},
     "output_type": "display_data"
    },
    {
     "data": {
      "text/plain": [
       "W&B Run: https://app.wandb.ai/awaelchli/pytorch-demo/runs/dj5bl507"
      ]
     },
     "execution_count": 17,
     "metadata": {},
     "output_type": "execute_result"
    }
   ],
   "source": [
    "import wandb\n",
    "\n",
    "wandb.init(\n",
    "    name='Introduction to W & B', \n",
    "    config=dict(),  \n",
    "    project='pytorch-demo', \n",
    "    tags=['baseline'],\n",
    "    dir='./runs',\n",
    "    entity='awaelchli',\n",
    "    group='slides',\n",
    "    resume=False,\n",
    ")"
   ]
  },
  {
   "cell_type": "markdown",
   "metadata": {
    "slideshow": {
     "slide_type": "slide"
    }
   },
   "source": [
    "### Config\n",
    "Keeping track of training parameters is easy!"
   ]
  },
  {
   "cell_type": "code",
   "execution_count": 18,
   "metadata": {
    "scrolled": true,
    "slideshow": {
     "slide_type": "-"
    }
   },
   "outputs": [],
   "source": [
    "wandb.config.batch_size = 16\n",
    "wandb.config.epochs = 5"
   ]
  },
  {
   "cell_type": "code",
   "execution_count": 20,
   "metadata": {},
   "outputs": [
    {
     "name": "stdout",
     "output_type": "stream",
     "text": [
      "wandb_version: 1\n",
      "\n",
      "_wandb:\n",
      "  desc: null\n",
      "  value:\n",
      "    cli_version: 0.8.3\n",
      "batch_norm:\n",
      "  desc: null\n",
      "  value: true\n",
      "batch_size:\n",
      "  desc: null\n",
      "  value: 16\n",
      "epochs:\n",
      "  desc: null\n",
      "  value: 5\n",
      "learning_rate:\n",
      "  desc: null\n",
      "  value: 0.001\n",
      "\n"
     ]
    }
   ],
   "source": [
    "wandb.config.update({\n",
    "    'learning_rate': 1e-3,\n",
    "    'batch_norm': True,\n",
    "})\n",
    "\n",
    "print(wandb.config)"
   ]
  },
  {
   "cell_type": "markdown",
   "metadata": {
    "slideshow": {
     "slide_type": "subslide"
    }
   },
   "source": [
    "Even better: Pass your existing ```argparse``` flags to wandb!"
   ]
  },
  {
   "cell_type": "code",
   "execution_count": 5,
   "metadata": {
    "slideshow": {
     "slide_type": "-"
    }
   },
   "outputs": [],
   "source": [
    "import argparse\n",
    "import sys\n",
    "sys.argv = ['demo']\n",
    "parser = argparse.ArgumentParser()\n",
    "parser.add_argument('--image_height', type=int, default=128)\n",
    "args = parser.parse_args()\n",
    "\n",
    "wandb.config.update(args)  # adds all of the arguments as config variables\n",
    "#print(wandb.config)"
   ]
  },
  {
   "cell_type": "markdown",
   "metadata": {
    "slideshow": {
     "slide_type": "slide"
    }
   },
   "source": [
    "### Plotting the Error Curve"
   ]
  },
  {
   "cell_type": "code",
   "execution_count": 21,
   "metadata": {
    "scrolled": true
   },
   "outputs": [],
   "source": [
    "#%%wandb\n",
    "\n",
    "for it in range(50):\n",
    "    # ... some deep learning stuff here ...\n",
    "    \n",
    "    wandb.log({'loss': torch.rand(1), 'accuracy': torch.rand(1)}, step=it)\n"
   ]
  },
  {
   "cell_type": "markdown",
   "metadata": {
    "slideshow": {
     "slide_type": "slide"
    }
   },
   "source": [
    "### Plotting Images"
   ]
  },
  {
   "cell_type": "code",
   "execution_count": 31,
   "metadata": {
    "slideshow": {
     "slide_type": "-"
    }
   },
   "outputs": [],
   "source": [
    "#%%wandb\n",
    "\n",
    "for it in range(5):\n",
    "    # ... some deep learning stuff here ...\n",
    "    \n",
    "    wandb.log({\"examples\": [wandb.Image(torch.rand(2, 3, 128, 128), caption=\"A caption\")]})\n",
    "   "
   ]
  },
  {
   "cell_type": "markdown",
   "metadata": {
    "slideshow": {
     "slide_type": "slide"
    }
   },
   "source": [
    "### Plotting Histograms"
   ]
  },
  {
   "cell_type": "code",
   "execution_count": 29,
   "metadata": {},
   "outputs": [],
   "source": [
    "#%%wandb\n",
    "\n",
    "for it in range(5):\n",
    "    # ... some deep learning stuff here ...\n",
    "    \n",
    "    wandb.log({\"gradients\": wandb.Histogram(torch.Tensor(100, 100).normal_(0, it))})\n"
   ]
  },
  {
   "cell_type": "markdown",
   "metadata": {
    "slideshow": {
     "slide_type": "slide"
    }
   },
   "source": [
    "### Other \n",
    "\n",
    "Similarly, we can plot other data.\n",
    "\n",
    "- Audio\n",
    "- Text and Tables\n",
    "- HTML\n",
    "- 3D Objects (point clouds)\n"
   ]
  },
  {
   "cell_type": "markdown",
   "metadata": {
    "slideshow": {
     "slide_type": "slide"
    }
   },
   "source": [
    "### Back to the Future!\n",
    "\n",
    "Now, let's improve our [MNIST](./02_MNIST_Logging.ipynb) example."
   ]
  },
  {
   "cell_type": "markdown",
   "metadata": {
    "slideshow": {
     "slide_type": "slide"
    }
   },
   "source": [
    "## More Improvements"
   ]
  },
  {
   "cell_type": "markdown",
   "metadata": {
    "slideshow": {
     "slide_type": "slide"
    }
   },
   "source": [
    "### ArgumentParster vs. Settings File\n",
    "\n",
    "- ArgumentParser defaults are often misused as inputs\n",
    "- W&B can track hyperparameters, but what if we want to share the source code?\n",
    "- Often many hyperparameters (fills your terminal)\n",
    "- Same source code, multiple experiments"
   ]
  },
  {
   "cell_type": "markdown",
   "metadata": {
    "slideshow": {
     "slide_type": "slide"
    }
   },
   "source": [
    "### Typical Settings File"
   ]
  },
  {
   "cell_type": "markdown",
   "metadata": {
    "slideshow": {
     "slide_type": "-"
    }
   },
   "source": [
    "``` json\n",
    "{\n",
    "    \"train_data\":               \"../../data/HFR/train.txt\",\n",
    "    \"test_data\":                \"../../data/HFR/test.txt\",\n",
    "    \"val_data\":                 \"../../data/HFR/val.txt\",\n",
    "\n",
    "    \"batch_size\":               5,\n",
    "    \"epochs\":                   1000,\n",
    "\n",
    "    \"lr\":                       0.00001,\n",
    "    \"lr_decay_factor\":          0.98,\n",
    "\n",
    "    \"weight_reconstruction\":    1.0,\n",
    "    \"weight_perceptual\":        0.1,\n",
    "    \"weight_binarization\":      0.8,\n",
    "    \"weight_hinge\":             0.8,\n",
    "\n",
    "    \"crop_size\":                [224, 224],\n",
    "\n",
    "    \"device\":                   \"cuda\",\n",
    "    \"gpus\":                     [2, 3],\n",
    "    \"num_workers\":              4,\n",
    "\n",
    "    \"log_interval\":             100,\n",
    "    \"log_dir\":                  \"../../runs/flow/layered/01-initial\",\n",
    "    \"save\":                     \"checkpoint.pt\",\n",
    "    \"resume\":                   false,\n",
    "\n",
    "    \"comment\":                  \"Layered representation for optical flow. The mask is now used to inpaint only the background. Added an extra conv layer to the upsampling block in M. Jin's network. The Inpainter now also takes the mask as input, and the non-inpainted pixels are replaced with the original values. The frame skip is now 10 instead of 5.\"\n",
    "}\n",
    "```"
   ]
  },
  {
   "cell_type": "markdown",
   "metadata": {
    "slideshow": {
     "slide_type": "slide"
    }
   },
   "source": [
    "### Loading the Settings File"
   ]
  },
  {
   "cell_type": "code",
   "execution_count": 34,
   "metadata": {},
   "outputs": [],
   "source": [
    "import json\n",
    "import os\n",
    "from argparse import Namespace\n",
    "\n",
    "\n",
    "def load_config(file):\n",
    "    with open(file, 'r') as f:\n",
    "        config = json.load(f)\n",
    "        config = Namespace(**config)\n",
    "    return config\n",
    "\n",
    "def backup_config(file, log_dir):\n",
    "    # backup the config file to the log-folder\n",
    "    shutil.copy(file, os.path.join(log_dir, os.path.basename(file)))"
   ]
  },
  {
   "cell_type": "markdown",
   "metadata": {
    "slideshow": {
     "slide_type": "slide"
    }
   },
   "source": [
    "### Alternatives: \n",
    "\n",
    "- YAML\n",
    "- Text file\n",
    "- Bash file "
   ]
  }
 ],
 "metadata": {
  "celltoolbar": "Slideshow",
  "kernelspec": {
   "display_name": "Python 3",
   "language": "python",
   "name": "python3"
  },
  "language_info": {
   "codemirror_mode": {
    "name": "ipython",
    "version": 3
   },
   "file_extension": ".py",
   "mimetype": "text/x-python",
   "name": "python",
   "nbconvert_exporter": "python",
   "pygments_lexer": "ipython3",
   "version": "3.7.3"
  },
  "rise": {
   "scroll": true
  }
 },
 "nbformat": 4,
 "nbformat_minor": 2
}

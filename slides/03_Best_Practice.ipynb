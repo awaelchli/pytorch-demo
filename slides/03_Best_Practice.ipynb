{
 "cells": [
  {
   "cell_type": "markdown",
   "metadata": {},
   "source": [
    "## Best Practice\n",
    "\n",
    "### Practical Advice for Training NNs"
   ]
  },
  {
   "cell_type": "markdown",
   "metadata": {
    "slideshow": {
     "slide_type": "slide"
    }
   },
   "source": [
    "### ArgumentParser vs. Settings File\n",
    "\n",
    "- ArgumentParser defaults are often misused as inputs\n",
    "- W&B can track hyperparameters, but what if we want to share the source code?\n",
    "- Often many hyperparameters (fills your terminal)\n",
    "- Same source code, multiple experiments\n",
    "\n",
    "``` bash\n",
    "\n",
    "python train.py \\ \n",
    "    --log_dir \"../runs/project/experiment\" \n",
    "    --batch_size 10 \\ \n",
    "    --model \"LSTM\" --lr 0.001 --epochs 10 \\\n",
    "    --num_layers 3 --hidden_size 512 \\\n",
    "    --pretrained --seq_len 20\n",
    "\n",
    "```"
   ]
  },
  {
   "cell_type": "markdown",
   "metadata": {
    "slideshow": {
     "slide_type": "slide"
    }
   },
   "source": [
    "### Typical Settings File"
   ]
  },
  {
   "cell_type": "markdown",
   "metadata": {},
   "source": [
    "``` json\n",
    "{\n",
    "    \"train_data\":               \"../../data/HFR/train.txt\",\n",
    "    \"test_data\":                \"../../data/HFR/test.txt\",\n",
    "    \"val_data\":                 \"../../data/HFR/val.txt\",\n",
    "\n",
    "    \"batch_size\":               5,\n",
    "    \"epochs\":                   1000,\n",
    "\n",
    "    \"lr\":                       0.00001,\n",
    "    \"lr_decay_factor\":          0.98,\n",
    "\n",
    "    \"weight_reconstruction\":    1.0,\n",
    "    \"weight_perceptual\":        0.1,\n",
    "    \"weight_binarization\":      0.8,\n",
    "    \"weight_hinge\":             0.8,\n",
    "\n",
    "    \"crop_size\":                [224, 224],\n",
    "\n",
    "    \"device\":                   \"cuda\",\n",
    "    \"gpus\":                     [2, 3],\n",
    "    \"num_workers\":              4,\n",
    "\n",
    "    \"log_interval\":             100,\n",
    "    \"log_dir\":                  \"../../runs/flow/layered/01-initial\",\n",
    "    \"save\":                     \"checkpoint.pt\",\n",
    "    \"resume\":                   false,\n",
    "\n",
    "    \"comment\":                  \"Layered representation for optical flow. The mask is now used to inpaint only the background. Added an extra conv layer to the upsampling block in M. Jin's network. The Inpainter now also takes the mask as input, and the non-inpainted pixels are replaced with the original values. The frame skip is now 10 instead of 5.\"\n",
    "}\n",
    "```"
   ]
  },
  {
   "cell_type": "markdown",
   "metadata": {
    "slideshow": {
     "slide_type": "slide"
    }
   },
   "source": [
    "### Loading the Settings File"
   ]
  },
  {
   "cell_type": "code",
   "execution_count": 1,
   "metadata": {
    "slideshow": {
     "slide_type": "-"
    }
   },
   "outputs": [],
   "source": [
    "import json\n",
    "import os\n",
    "from argparse import Namespace\n",
    "\n",
    "\n",
    "def load_config(file):\n",
    "    with open(file, 'r') as f:\n",
    "        config = json.load(f)\n",
    "        config = Namespace(**config)\n",
    "    return config\n",
    "\n",
    "def backup_config(file, log_dir):\n",
    "    # backup the config file to the log-folder\n",
    "    shutil.copy(file, os.path.join(log_dir, os.path.basename(file)))"
   ]
  },
  {
   "cell_type": "markdown",
   "metadata": {
    "slideshow": {
     "slide_type": "slide"
    }
   },
   "source": [
    "### Alternatives: \n",
    "\n",
    "- YAML\n",
    "- Text file\n",
    "- Bash file "
   ]
  },
  {
   "cell_type": "markdown",
   "metadata": {},
   "source": []
  }
 ],
 "metadata": {
  "celltoolbar": "Slideshow",
  "kernelspec": {
   "display_name": "Python 3",
   "language": "python",
   "name": "python3"
  },
  "language_info": {
   "codemirror_mode": {
    "name": "ipython",
    "version": 3
   },
   "file_extension": ".py",
   "mimetype": "text/x-python",
   "name": "python",
   "nbconvert_exporter": "python",
   "pygments_lexer": "ipython3",
   "version": "3.7.3"
  },
  "rise": {
   "scroll": true
  }
 },
 "nbformat": 4,
 "nbformat_minor": 2
}

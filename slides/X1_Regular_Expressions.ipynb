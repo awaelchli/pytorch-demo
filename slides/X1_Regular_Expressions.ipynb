{
 "cells": [
  {
   "cell_type": "markdown",
   "metadata": {
    "slideshow": {
     "slide_type": "slide"
    }
   },
   "source": [
    "# X1. Regular Expressions\n",
    "\n",
    "[Regular Expression HOWTO](https://docs.python.org/3/howto/regex.html#regex-howto)\n",
    "\n",
    "[Module Documentation](https://docs.python.org/3.7/library/re.html)"
   ]
  },
  {
   "cell_type": "markdown",
   "metadata": {
    "slideshow": {
     "slide_type": "subslide"
    }
   },
   "source": [
    "## Topics\n",
    "\n",
    "* Introduction to Regular Expressions\n",
    "\n",
    "* Pattern Types\n",
    "\n",
    "    * Matching Characters\n",
    "\n",
    "    * The Dot `.`\n",
    "    \n",
    "    * Set of Characters: `[…]`\n",
    "    \n",
    "    * Complements: `[^…]`\n",
    "    \n",
    "    * Repetition Qualifiers\n",
    "    \n",
    "    * Anchors\n",
    "    \n",
    "    * Alternation\n",
    "    \n",
    "    * Extracting Parts\n",
    "    \n",
    "    * Iterating Over Matches\n",
    "    \n",
    "    * Flags\n",
    "    \n",
    "* Practical Examples"
   ]
  },
  {
   "cell_type": "markdown",
   "metadata": {
    "slideshow": {
     "slide_type": "slide"
    }
   },
   "source": [
    "# Introduction to Regular Expressions\n",
    "\n",
    "* Highly specialized programming language\n",
    "\n",
    "* Specify rules (pattern) for strings you want to match\n",
    "\n",
    "    * Process only matching strings\n",
    "    \n",
    "    * Process parts of matching strings\n",
    "    \n",
    "* Examples    \n",
    "\n",
    "    * `\\d+`: a series of digits\n",
    "    \n",
    "    * `[a-z]\\d+`: a lower case letter followed by some digits\n",
    "    \n",
    "    * `.+\\.\\w+`: a mixture of characters except for new line, followed by a full stop and one of more letters or digits."
   ]
  },
  {
   "cell_type": "markdown",
   "metadata": {
    "slideshow": {
     "slide_type": "subslide"
    }
   },
   "source": [
    "## General Approach to Process Text File\n",
    "\n",
    "```\n",
    "for each line in a file:\n",
    "\n",
    "    does the line match the pattern\n",
    "    \n",
    "    if it does, do something\n",
    "```"
   ]
  },
  {
   "cell_type": "markdown",
   "metadata": {
    "slideshow": {
     "slide_type": "subslide"
    }
   },
   "source": [
    "## Example\n",
    "\n",
    "* Have a file `names.txt`:\n",
    "\n",
    "    ```\n",
    "    Alice\n",
    "    Bob\n",
    "    Charlotte\n",
    "    Derek\n",
    "    Ermintrude\n",
    "    Fred\n",
    "    Freda\n",
    "    Frederick\n",
    "    Felicity\n",
    "    ```\n",
    "    \n",
    "* Want to select all `Fred`'s, i.e. lines that contain `Fred`\n",
    "\n",
    "* In Unix:\n",
    "    \n",
    "    * `grep Fred names.txt` (grep file names.txt)"
   ]
  },
  {
   "cell_type": "code",
   "execution_count": 2,
   "metadata": {
    "slideshow": {
     "slide_type": "subslide"
    }
   },
   "outputs": [
    {
     "ename": "FileNotFoundError",
     "evalue": "[Errno 2] No such file or directory: 'X1_Files/names.txt'",
     "output_type": "error",
     "traceback": [
      "\u001b[1;31m---------------------------------------------------------------------------\u001b[0m",
      "\u001b[1;31mFileNotFoundError\u001b[0m                         Traceback (most recent call last)",
      "\u001b[1;32m<ipython-input-2-8f6ed1940746>\u001b[0m in \u001b[0;36m<module>\u001b[1;34m\u001b[0m\n\u001b[0;32m      6\u001b[0m \u001b[0mpatobj\u001b[0m \u001b[1;33m=\u001b[0m \u001b[0mre\u001b[0m\u001b[1;33m.\u001b[0m\u001b[0mcompile\u001b[0m\u001b[1;33m(\u001b[0m\u001b[0mpattern\u001b[0m\u001b[1;33m)\u001b[0m    \u001b[1;31m# setup regular expression\u001b[0m\u001b[1;33m\u001b[0m\u001b[1;33m\u001b[0m\u001b[0m\n\u001b[0;32m      7\u001b[0m \u001b[1;33m\u001b[0m\u001b[0m\n\u001b[1;32m----> 8\u001b[1;33m \u001b[1;32mwith\u001b[0m \u001b[0mopen\u001b[0m\u001b[1;33m(\u001b[0m\u001b[0mNAMES\u001b[0m\u001b[1;33m)\u001b[0m \u001b[1;32mas\u001b[0m \u001b[0mnames\u001b[0m\u001b[1;33m:\u001b[0m\u001b[1;33m\u001b[0m\u001b[1;33m\u001b[0m\u001b[0m\n\u001b[0m\u001b[0;32m      9\u001b[0m     \u001b[1;32mfor\u001b[0m \u001b[0mname\u001b[0m \u001b[1;32min\u001b[0m \u001b[0mnames\u001b[0m\u001b[1;33m:\u001b[0m\u001b[1;33m\u001b[0m\u001b[1;33m\u001b[0m\u001b[0m\n\u001b[0;32m     10\u001b[0m         \u001b[0mresult\u001b[0m \u001b[1;33m=\u001b[0m \u001b[0mpatobj\u001b[0m\u001b[1;33m.\u001b[0m\u001b[0msearch\u001b[0m\u001b[1;33m(\u001b[0m\u001b[0mname\u001b[0m\u001b[1;33m)\u001b[0m    \u001b[1;31m# use pattern object\u001b[0m\u001b[1;33m\u001b[0m\u001b[1;33m\u001b[0m\u001b[0m\n",
      "\u001b[1;31mFileNotFoundError\u001b[0m: [Errno 2] No such file or directory: 'X1_Files/names.txt'"
     ]
    }
   ],
   "source": [
    "import re                       # for regular expressions\n",
    "\n",
    "NAMES = 'X1_Files/names.txt'    # file from which we read\n",
    "\n",
    "pattern = r'Fred'               # define pattern\n",
    "patobj = re.compile(pattern)    # setup regular expression\n",
    "\n",
    "with open(NAMES) as names:\n",
    "    for name in names:\n",
    "        result = patobj.search(name)    # use pattern object\n",
    "        if result:                      # see what we got\n",
    "            print(name, end='')\n"
   ]
  },
  {
   "cell_type": "markdown",
   "metadata": {
    "slideshow": {
     "slide_type": "notes"
    }
   },
   "source": [
    "### Pieces of the Puzzle\n",
    "\n",
    "* `pattern = r'...'`: pattern defined as raw string\n",
    "\n",
    "    * Some patterns are of the form `\\c`\n",
    "    \n",
    "    * Avoids converting `\\c` into special character (`c` some ASCII character)\n",
    "\n",
    "* `patobj = re.compile(pattern)`\n",
    "\n",
    "    * `re.compile(pattern)`:\n",
    "    \n",
    "        * Function that compiles given `pattern`\n",
    "        \n",
    "        * Returns a pattern object\n",
    "\n",
    "* `result = patobj.search(name)`\n",
    "\n",
    "    * `patobj.search(string)`:\n",
    "    \n",
    "        * Method of pattern object: scans given string for a match to the pattern\n",
    "        \n",
    "        * Returns a match object, or None if no match was found\n",
    "        \n",
    "    * Alternative (but less general): `patobj.match(string)`\n",
    "    \n",
    "        * Method of pattern object: tries to apply pattern at start of given string\n",
    "        \n",
    "        * Returns a match object, or None if no match was found           "
   ]
  },
  {
   "cell_type": "markdown",
   "metadata": {
    "slideshow": {
     "slide_type": "subslide"
    }
   },
   "source": [
    "### Alternative Code\n",
    "\n",
    "* No compilation of pattern into pattern object\n",
    "\n",
    "* Use function `re.search(pattern, string)` to obtain match object\n",
    "\n",
    "    * Alternative (but less general): `re.match(pattern, string)` (similar to `patobj.match(string)`)"
   ]
  },
  {
   "cell_type": "code",
   "execution_count": 3,
   "metadata": {
    "slideshow": {
     "slide_type": "-"
    }
   },
   "outputs": [
    {
     "ename": "FileNotFoundError",
     "evalue": "[Errno 2] No such file or directory: 'X1_Files/names.txt'",
     "output_type": "error",
     "traceback": [
      "\u001b[1;31m---------------------------------------------------------------------------\u001b[0m",
      "\u001b[1;31mFileNotFoundError\u001b[0m                         Traceback (most recent call last)",
      "\u001b[1;32m<ipython-input-3-06f41ff8f077>\u001b[0m in \u001b[0;36m<module>\u001b[1;34m\u001b[0m\n\u001b[0;32m      1\u001b[0m \u001b[0mpattern\u001b[0m \u001b[1;33m=\u001b[0m \u001b[1;34mr'Fred'\u001b[0m\u001b[1;33m\u001b[0m\u001b[1;33m\u001b[0m\u001b[0m\n\u001b[0;32m      2\u001b[0m \u001b[1;33m\u001b[0m\u001b[0m\n\u001b[1;32m----> 3\u001b[1;33m \u001b[1;32mwith\u001b[0m \u001b[0mopen\u001b[0m\u001b[1;33m(\u001b[0m\u001b[0mNAMES\u001b[0m\u001b[1;33m)\u001b[0m \u001b[1;32mas\u001b[0m \u001b[0mnames\u001b[0m\u001b[1;33m:\u001b[0m\u001b[1;33m\u001b[0m\u001b[1;33m\u001b[0m\u001b[0m\n\u001b[0m\u001b[0;32m      4\u001b[0m     \u001b[1;32mfor\u001b[0m \u001b[0mname\u001b[0m \u001b[1;32min\u001b[0m \u001b[0mnames\u001b[0m\u001b[1;33m:\u001b[0m\u001b[1;33m\u001b[0m\u001b[1;33m\u001b[0m\u001b[0m\n\u001b[0;32m      5\u001b[0m         \u001b[0mresult\u001b[0m \u001b[1;33m=\u001b[0m \u001b[0mre\u001b[0m\u001b[1;33m.\u001b[0m\u001b[0msearch\u001b[0m\u001b[1;33m(\u001b[0m\u001b[0mpattern\u001b[0m\u001b[1;33m,\u001b[0m \u001b[0mname\u001b[0m\u001b[1;33m)\u001b[0m \u001b[1;31m# re.search\u001b[0m\u001b[1;33m\u001b[0m\u001b[1;33m\u001b[0m\u001b[0m\n",
      "\u001b[1;31mFileNotFoundError\u001b[0m: [Errno 2] No such file or directory: 'X1_Files/names.txt'"
     ]
    }
   ],
   "source": [
    "pattern = r'Fred'\n",
    "\n",
    "with open(NAMES) as names:\n",
    "    for name in names:\n",
    "        result = re.search(pattern, name) # re.search\n",
    "        if result:\n",
    "            print(name, end='')\n"
   ]
  },
  {
   "cell_type": "markdown",
   "metadata": {
    "slideshow": {
     "slide_type": "slide"
    }
   },
   "source": [
    "# Pattern Types\n",
    "\n",
    "## Matching Characters\n",
    "\n",
    "* most characters simply match themself\n",
    "    \n",
    "    * Example: `'test'` will match string `abctestdef`\n",
    "        \n",
    "* some characters have special meaning\n",
    "        \n",
    "    * Metacharacters: `. ^ $ * + ? { } [ ] \\ | ( )`\n",
    "    \n",
    "    * Escape them with a backslash (`\\`) to match them literally\n",
    "    \n",
    "        * `'\\[test\\]'` will match `[test]`"
   ]
  },
  {
   "cell_type": "markdown",
   "metadata": {
    "slideshow": {
     "slide_type": "subslide"
    }
   },
   "source": [
    "## The Dot `.`\n",
    "\n",
    "* A dot `.` matches any character but a newline\n",
    "\n",
    "    * `'....'`: 4 non-newline characters in a row\n",
    "\n",
    "        * matches `abcd`, `abcdefg`\n",
    "        \n",
    "        * does not match: `abc` or `abc\\nd`"
   ]
  },
  {
   "cell_type": "markdown",
   "metadata": {
    "slideshow": {
     "slide_type": "subslide"
    }
   },
   "source": [
    "## Set of Characters: `[…]`\n",
    "\n",
    "* Characters between `[` and `]` specify a set of characters to match\n",
    "\n",
    "    * `[aeiou]` matches a vowel\n",
    "    \n",
    "    * To match literal `]`, escape it with `\\` or place it as first character of the set\n",
    "\n",
    "        * `[aeiou\\]]` and `[]aeiou]` will both match a vowel or `]`.\n",
    "\n",
    "\n",
    "* Can specify range of characters with `-`, e.g.\n",
    "\n",
    "    * `[a-z]` matches a character in set `{a, ..., z}`.\n",
    "    \n",
    "    * To add literal `-` to the set, escape it with `\\` or place it as first or last character of the set\n",
    "\n",
    "        * `[a\\-z]`, `[-az]` and `[az-]` all match `a`, `z` or `-`.\n",
    "    \n",
    "* Ranges and single characters can be combined\n",
    "\n",
    "    * `[a-z_0-9]` matches a character in set `{a, ..., z, _, 0, ..., 9}`."
   ]
  },
  {
   "cell_type": "markdown",
   "metadata": {
    "slideshow": {
     "slide_type": "subslide"
    }
   },
   "source": [
    "### Example: Matching `Fred` or `fred`"
   ]
  },
  {
   "cell_type": "code",
   "execution_count": 3,
   "metadata": {
    "slideshow": {
     "slide_type": "-"
    }
   },
   "outputs": [
    {
     "name": "stdout",
     "output_type": "stream",
     "text": [
      "Fred\n",
      "Freda\n",
      "Frederick\n",
      "Manfred\n"
     ]
    }
   ],
   "source": [
    "pattern = r'[Ff]red'         # match Fred or fred\n",
    "regobj = re.compile(pattern)\n",
    "\n",
    "with open(NAMES) as names:\n",
    "    for name in names:\n",
    "        result = regobj.search(name)\n",
    "        if result:\n",
    "            print(name, end='')\n"
   ]
  },
  {
   "cell_type": "markdown",
   "metadata": {
    "slideshow": {
     "slide_type": "subslide"
    }
   },
   "source": [
    "## Complements: `[^…]`\n",
    "\n",
    "* `^` at beginning of a character class creates complement\n",
    "\n",
    "    * No special meaning if not at beginning\n",
    "\n",
    "* Complement matches any but those specified characters\n",
    "\n",
    "* Example: `[^aeiou]` matches any one character but a lower case vowel."
   ]
  },
  {
   "cell_type": "markdown",
   "metadata": {
    "slideshow": {
     "slide_type": "subslide"
    }
   },
   "source": [
    "### Predefined Character Sets\n",
    "\n",
    "* Python comes with predefined character sets\n",
    "\n",
    "    * `\\d`: any decimal digit (equivalent to `[0-9]`)\n",
    "    * `\\D`: complement of `\\d`\n",
    "    * `\\s`: any whitespace character (includes `[ \\t\\n\\r\\f\\v]`)\n",
    "    * `\\S`: complement of `\\s`\n",
    "    * `\\w`: any unicode word character as well as digits and the underscore (includes `[a-zA-Z0-9_]`)   \n",
    "    * `\\W`: complement of `\\w`\n",
    "\n",
    "* Predefined character sets (`\\d`, `\\w`, …) are accepted inside sets"
   ]
  },
  {
   "cell_type": "markdown",
   "metadata": {
    "slideshow": {
     "slide_type": "subslide"
    }
   },
   "source": [
    "### Special Characters in `[…]`\n",
    "\n",
    "* All but two metacharacters loose their special meaning inside `[…]`\n",
    "\n",
    "* Still special are\n",
    "\n",
    "    * `^`: to specify complement (if specified as first character)\n",
    "    \n",
    "    * `\\`: \n",
    "        * to escape `]`, `-` or `\\`\n",
    "        \n",
    "        * to signal predefined character sets, e.g. `\\d` or `\\w`"
   ]
  },
  {
   "cell_type": "markdown",
   "metadata": {
    "slideshow": {
     "slide_type": "subslide"
    }
   },
   "source": [
    "#### Example: Matching a Date String\n",
    "\n",
    "* Match a date string of the form `DD/Mon/YYYY`\n",
    "\n",
    "* Can use the following patterns\n",
    "\n",
    "    * `\\d\\d/\\w\\w\\w/\\d\\d\\d\\d`\n",
    "\n",
    "    * `[0-9][0-9]/[A-Z][a-z][a-z]/[0-9][0-9][0-9][0-9]` (a little bit more specific about month)"
   ]
  },
  {
   "cell_type": "code",
   "execution_count": 4,
   "metadata": {
    "slideshow": {
     "slide_type": "fragment"
    }
   },
   "outputs": [],
   "source": [
    "good_date = \"On 13/Dec/2018 at 9:15:00 we discovered planet Python.\"\n",
    "bad_date = \"On 13/Dec/18 at 9:15:00 we discovered planet Python.\"\n",
    "\n",
    "pattern = r'\\d\\d/\\w\\w\\w/\\d\\d\\d\\d'"
   ]
  },
  {
   "cell_type": "code",
   "execution_count": 5,
   "metadata": {
    "slideshow": {
     "slide_type": "fragment"
    }
   },
   "outputs": [
    {
     "name": "stdout",
     "output_type": "stream",
     "text": [
      "match:    On 13/Dec/2018 at 9:15:00 we discovered planet Python.\n",
      "no match: On 13/Dec/18 at 9:15:00 we discovered planet Python.\n"
     ]
    }
   ],
   "source": [
    "for string in [good_date, bad_date]:\n",
    "    result = re.search(pattern, string)\n",
    "    if result:\n",
    "        print('match:   ', string)\n",
    "    else:\n",
    "        print('no match:', string)"
   ]
  },
  {
   "cell_type": "markdown",
   "metadata": {
    "slideshow": {
     "slide_type": "subslide"
    }
   },
   "source": [
    "## Repetition Qualifiers\n",
    "\n",
    "* `\\d\\d\\\\d\\d` or `[0-9][0-9][0-9][0-9]` is unwieldy\n",
    "* Use repetition qualifiers to specify repetition\n",
    "    * `*`: none or more\n",
    "    * `+`: one or more\n",
    "    * `?`: none or one\n",
    "    * `{n}`: `n` times\n",
    "    * `{m,n}`: `m` to `n` times"
   ]
  },
  {
   "cell_type": "markdown",
   "metadata": {
    "slideshow": {
     "slide_type": "subslide"
    }
   },
   "source": [
    "Repetition qualifiers apply to previous character, character set or group (see below)\n",
    "\n",
    "* `Z*`: none or more `Z`s\n",
    "    * matches: `xxyy`, `xxZyy`, `xxZZZyy`\n",
    "\n",
    "* `\\d+`: one or more digits\n",
    "    * matches `xx9yy`, `xx12345yy`\n",
    "\n",
    "* `X?`: none or one `X`\n",
    "    * matches: `abde`, `abXde`\n",
    "    \n",
    "* `A{2}`: two `A`'s in a row\n",
    "\n",
    "    * matches: `xxAAyy`, `xxAAAAAAyy`\n",
    "\n",
    "* `[AEIOU]{2,4}`: 2 to 4 upper case vowels in a row\n",
    "\n",
    "    * matches: `xxAIyy`, `xxAUIyy`, `xxAUIOyy`, `xxAUIEEOyy`"
   ]
  },
  {
   "cell_type": "markdown",
   "metadata": {
    "slideshow": {
     "slide_type": "subslide"
    }
   },
   "source": [
    "#### Example Revisited: Matching a Date String\n",
    "\n",
    "* Match a date string of the form `DD/Mon/YYYY`\n",
    "\n",
    "* Can use the following patterns\n",
    "\n",
    "    * `\\d{2}/\\w{3}/\\d{4}`\n",
    "    \n",
    "    * `[0-9]{2}/[A-Z][a-z]{2}/[0-9]{4}`\n",
    "    \n",
    "* Variation: match `DD/Mon/YYYY` or `DD/Mon/YY`:\n",
    "\n",
    "    * `\\d{2}/\\w{3}/\\d{2,4}`\n",
    "    \n",
    "    * `[0-9]{2}/[A-Z][a-z]{2}/[0-9]{2,4}`"
   ]
  },
  {
   "cell_type": "markdown",
   "metadata": {
    "slideshow": {
     "slide_type": "subslide"
    }
   },
   "source": [
    "### Nested Repetitions\n",
    "\n",
    "* Possible to use nested repetition qualifier\n",
    "\n",
    "* Have to use parentheses\n",
    "\n",
    "    * Syntax: `(?:...)*`, `(?:...)+`, `(?:...){m,n}`, …\n",
    "\n",
    "* Examples:\n",
    "\n",
    "    * `(?:a{6})*`: any multiple of six `a`'s in a row"
   ]
  },
  {
   "cell_type": "markdown",
   "metadata": {
    "slideshow": {
     "slide_type": "subslide"
    }
   },
   "source": [
    "## Anchors\n",
    "\n",
    "* Anchor: Matching a position in a string\n",
    "\n",
    "    * `\\A`: matches at the start of the string\n",
    "\n",
    "    * `\\Z`: matches at the end of the string\n",
    "\n",
    "    * `^`: matches at the start of the string (if not in special matching mode)\n",
    "\n",
    "    * `$`: matches at the end of the string (if not in special matching mode)\n",
    "    \n",
    "    * `\\b`: matches at word boundary, i.e. at beginning or end of a word\n",
    "    \n",
    "        * word defined as sequence of alphanumeric characters, i.e. `[a-zA-Z0-9_]`\n",
    "        \n",
    "    * `\\B`: opposite of `\\b`"
   ]
  },
  {
   "cell_type": "markdown",
   "metadata": {
    "slideshow": {
     "slide_type": "subslide"
    }
   },
   "source": [
    "### Anchor Examples\n",
    "\n",
    "* `^\\d+$`: integer-like strings\n",
    "    \n",
    "    * a non-empty sequence of digits\n",
    "    \n",
    "* `^\\d+\\.\\d+$`: float-like strings\n",
    "    \n",
    "    * a non-empty sequence of digits followed by a dot and another non-empty sequence of digits\n",
    "    \n",
    "* `^\\s*\\d+\\.\\d+\\s*$`: float-like strings that may be surrounded with white space\n",
    "\n",
    "* `\\bclass\\b`: the word class"
   ]
  },
  {
   "cell_type": "code",
   "execution_count": 6,
   "metadata": {
    "slideshow": {
     "slide_type": "subslide"
    }
   },
   "outputs": [
    {
     "name": "stdout",
     "output_type": "stream",
     "text": [
      "match:    class\n",
      "match:    a class of\n",
      "match:    super-class-power\n",
      "no match: class9\n",
      "no match: super_class\n",
      "no match: classy course\n"
     ]
    }
   ],
   "source": [
    "pattern = r'\\bclass\\b'\n",
    "\n",
    "for string in [\n",
    "    'class',\n",
    "    'a class of',\n",
    "    'super-class-power',\n",
    "    'class9',               # 9 is alphanumeric\n",
    "    'super_class',          # _ is alphanumeric\n",
    "    'classy course'\n",
    "]:\n",
    "    result = re.search(pattern, string)\n",
    "    if result:\n",
    "        print('match:   ', string)\n",
    "    else:\n",
    "        print('no match:', string)"
   ]
  },
  {
   "cell_type": "markdown",
   "metadata": {
    "slideshow": {
     "slide_type": "slide"
    }
   },
   "source": [
    "## Alternation\n",
    "\n",
    "* Alternation: match one or the other regular expression\n",
    "\n",
    "* If `A` and `B` are regular expressions, `A|B` will match any string that matches either `A` or `B`.\n",
    "    \n",
    "* `|` has very low precedence\n",
    "    \n",
    "    * `Crow|Servo` will match either `Crow` or `Servo`, not `Cro`, a `w` or an `S`, and `ervo`.\n",
    "    \n",
    "* Use `(?:…)` to be explicit about your alternation\n",
    "\n",
    "    * Example: `(?:Crow|Servo)`\n",
    "    \n",
    "* To match literal `|` use `\\|` or `[|]`"
   ]
  },
  {
   "cell_type": "markdown",
   "metadata": {
    "slideshow": {
     "slide_type": "subslide"
    }
   },
   "source": [
    "### Example: Dates again\n",
    "\n",
    "With Alternation we can be more precise about dates"
   ]
  },
  {
   "cell_type": "code",
   "execution_count": 7,
   "metadata": {},
   "outputs": [],
   "source": [
    "winter = \"The date 24/Dec/2018 is in Winter.\"\n",
    "summer = \"The date 24/Jul/2018 is in Summer.\"\n",
    "\n",
    "# put alternation of months into parentheses (?:...)\n",
    "# otherwise we would match any one of these:\n",
    "#   - \\d{2}/Dec \n",
    "#   - Jan \n",
    "#   - Feb/\\d{4}\n",
    "pattern = r'\\d{2}/(?:Dec|Jan|Feb)/\\d{4}'"
   ]
  },
  {
   "cell_type": "code",
   "execution_count": 8,
   "metadata": {
    "slideshow": {
     "slide_type": "fragment"
    }
   },
   "outputs": [
    {
     "name": "stdout",
     "output_type": "stream",
     "text": [
      "match:    The date 24/Dec/2018 is in Winter.\n",
      "no match: The date 24/Jul/2018 is in Summer.\n"
     ]
    }
   ],
   "source": [
    "for string in [winter, summer]:\n",
    "    result = re.search(pattern, string)\n",
    "    if result:\n",
    "        print('match:   ', string)\n",
    "    else:\n",
    "        print('no match:', string)"
   ]
  },
  {
   "cell_type": "markdown",
   "metadata": {
    "slideshow": {
     "slide_type": "subslide"
    }
   },
   "source": [
    "## Extracting Parts\n",
    "\n",
    "* Often, a matching substring should be extracted\n",
    "\n",
    "* Put parts that should match inbetween parentheses `(…)` — not `(?:…)`\n",
    "\n",
    "* Extract matching substrings with `group` method of match object or `[]` operator, where\n",
    "\n",
    "    * `match_obj.group(0)` or `match_obj[0]`: is match of whole regular expression\n",
    "    \n",
    "    * `match_obj.group(i)` or `match_obj[i]`: is match of `i`'th group\n",
    "    \n",
    "* Arguments of method `group` can vary:\n",
    "\n",
    "    * `match_obj.group()`: equal to `match_obj.group(0)`\n",
    "    \n",
    "    * `match_obj.group(i, j, k)`: returns tuple holding corresponding groups\n",
    "    \n",
    "* Method `groups()` returns tuple of all groups (group 0 not included)"
   ]
  },
  {
   "cell_type": "code",
   "execution_count": 9,
   "metadata": {
    "slideshow": {
     "slide_type": "subslide"
    }
   },
   "outputs": [
    {
     "name": "stdout",
     "output_type": "stream",
     "text": [
      "match:    The date 24/Dec/2018 is in Winter.\n",
      "result.group(0): 24/Dec/2018\n",
      "result[0]:       24/Dec/2018\n",
      "result.group(1): 24\n",
      "result[1]:       24\n",
      "result.group(2): Dec\n",
      "result[2]:       Dec\n",
      "result.group(3): 2018\n",
      "result[3]:       2018\n",
      "result.group(): 24/Dec/2018\n",
      "result.group(1,2,1,3): ('24', 'Dec', '24', '2018')\n",
      "result.groups(): ('24', 'Dec', '2018')\n"
     ]
    }
   ],
   "source": [
    "date_string = \"The date 24/Dec/2018 is in Winter.\"\n",
    "\n",
    "pattern = r'(\\d{2})/(Dec|Jan|Feb)/(\\d{4})'\n",
    "\n",
    "result = re.search(pattern, date_string)\n",
    "if result:\n",
    "    print('match:   ', date_string)\n",
    "    \n",
    "    # print out each group\n",
    "    for i in range(4):\n",
    "        print(f'result.group({i}):', result.group(i))\n",
    "        print(f'result[{i}]:      ', result[i])\n",
    "\n",
    "    # default argument of group is 0\n",
    "    print('result.group():', result.group())\n",
    "    \n",
    "    # can specify several arguments\n",
    "    # result is tuple of corresponding groups\n",
    "    print('result.group(1,2,1,3):', result.group(1,2,1,3))\n",
    "    \n",
    "    # method groups() returns tuple of all groups but group(0)\n",
    "    print('result.groups():', result.groups())"
   ]
  },
  {
   "cell_type": "markdown",
   "metadata": {
    "slideshow": {
     "slide_type": "subslide"
    }
   },
   "source": [
    "### Subgroups\n",
    "\n",
    "* Possible to have groups within another group\n",
    "\n",
    "* Group number then corresponds to number of opening parentheses left of group"
   ]
  },
  {
   "cell_type": "markdown",
   "metadata": {
    "slideshow": {
     "slide_type": "fragment"
    }
   },
   "source": [
    "#### Example"
   ]
  },
  {
   "cell_type": "code",
   "execution_count": 10,
   "metadata": {
    "slideshow": {
     "slide_type": "-"
    }
   },
   "outputs": [
    {
     "name": "stdout",
     "output_type": "stream",
     "text": [
      "match: The date 24/Dec/2018 is in Winter.\n",
      "date:  24/Dec/2018\n",
      "day:   24\n",
      "month: Dec\n",
      "year:  2018\n"
     ]
    }
   ],
   "source": [
    "date_string = \"The date 24/Dec/2018 is in Winter.\"\n",
    "\n",
    "pattern = r'^.*((\\d{2})/(Dec|Jan|Feb)/(\\d{4})).*$'\n",
    "\n",
    "result = re.search(pattern, date_string)\n",
    "\n",
    "print('match:', result.group(0))\n",
    "print('date: ', result.group(1))\n",
    "print('day:  ', result.group(2))\n",
    "print('month:', result.group(3))\n",
    "print('year: ', result.group(4))"
   ]
  },
  {
   "cell_type": "markdown",
   "metadata": {
    "slideshow": {
     "slide_type": "subslide"
    }
   },
   "source": [
    "### Backreferences\n",
    "\n",
    "* Backreference: specify that contents of earlier capturing group must be found at current location in the string\n",
    "\n",
    "* Syntax: `\\i`, where `i` is the group number you backrefer to"
   ]
  },
  {
   "cell_type": "markdown",
   "metadata": {
    "slideshow": {
     "slide_type": "fragment"
    }
   },
   "source": [
    "#### Example"
   ]
  },
  {
   "cell_type": "code",
   "execution_count": 11,
   "metadata": {
    "slideshow": {
     "slide_type": "-"
    }
   },
   "outputs": [
    {
     "name": "stdout",
     "output_type": "stream",
     "text": [
      "match:    tsetse\n",
      "1st part: tse\n"
     ]
    }
   ],
   "source": [
    "date_string = \"The tsetse fly is dangerous.\"\n",
    "\n",
    "pattern = r'(\\w+)\\1'\n",
    "\n",
    "result = re.search(pattern, date_string)\n",
    "\n",
    "print('match:   ', result.group(0))\n",
    "print('1st part:', result.group(1))"
   ]
  },
  {
   "cell_type": "markdown",
   "metadata": {
    "slideshow": {
     "slide_type": "subslide"
    }
   },
   "source": [
    "### Named Groups\n",
    "\n",
    "* Python offers naming of groups\n",
    "\n",
    "* Used to\n",
    "    \n",
    "    * backreference group by name\n",
    "\n",
    "    * retreive group by name\n",
    "\n",
    "* Syntax\n",
    "\n",
    "    * Naming group: `(?P<name>…)`\n",
    "    \n",
    "    * Backreference group: `(?P=name)`\n",
    "    \n",
    "    * Retrieve group by name: `match_obj.group('name')` or `match_obj['name']`\n"
   ]
  },
  {
   "cell_type": "code",
   "execution_count": 12,
   "metadata": {
    "slideshow": {
     "slide_type": "subslide"
    }
   },
   "outputs": [
    {
     "name": "stdout",
     "output_type": "stream",
     "text": [
      "1st part: tse\n",
      "1st part: tse\n"
     ]
    }
   ],
   "source": [
    "date_string = \"The tsetse fly is dangerous.\"\n",
    "\n",
    "pattern = r'(?P<part1>\\w+)(?P=part1)'\n",
    "\n",
    "result = re.search(pattern, date_string)\n",
    "\n",
    "print('1st part:', result.group('part1'))\n",
    "\n",
    "print('1st part:', result['part1'])\n"
   ]
  },
  {
   "cell_type": "markdown",
   "metadata": {
    "slideshow": {
     "slide_type": "subslide"
    }
   },
   "source": [
    "### Repetition Qualifiers are Greedy\n",
    "\n",
    "* Repetition qualifiers are greedy, i.e. they try to match as many characters as possible\n",
    "\n",
    "* Non-greedy versions of repetition qualifiers available (just append `?` after qualifier)\n",
    "\n",
    "    * `*?`: none or more, non-greedy\n",
    "    * `+?`: one or more, non-greedy\n",
    "    * `??`: none or one, non-greedy\n",
    "    * `{m,n}?`: `m` to `n` times, non-greedy"
   ]
  },
  {
   "cell_type": "markdown",
   "metadata": {
    "slideshow": {
     "slide_type": "subslide"
    }
   },
   "source": [
    "#### Example"
   ]
  },
  {
   "cell_type": "code",
   "execution_count": 13,
   "metadata": {},
   "outputs": [
    {
     "name": "stdout",
     "output_type": "stream",
     "text": [
      "<html><head><title>Title</title>\n"
     ]
    }
   ],
   "source": [
    "html_string = '<html><head><title>Title</title>'\n",
    "\n",
    "# this pattern matches the whole string!\n",
    "pattern = r'<.*>'\n",
    "\n",
    "result = re.search(pattern, html_string)\n",
    "\n",
    "print(result[0])"
   ]
  },
  {
   "cell_type": "code",
   "execution_count": 14,
   "metadata": {
    "slideshow": {
     "slide_type": "fragment"
    }
   },
   "outputs": [
    {
     "name": "stdout",
     "output_type": "stream",
     "text": [
      "<html>\n"
     ]
    }
   ],
   "source": [
    "html_string = '<html><head><title>Title</title>'\n",
    "\n",
    "# this pattern matches only the html tag!\n",
    "pattern = r'<.*?>'\n",
    "\n",
    "result = re.search(pattern, html_string)\n",
    "\n",
    "print(result[0])"
   ]
  },
  {
   "cell_type": "markdown",
   "metadata": {
    "slideshow": {
     "slide_type": "slide"
    }
   },
   "source": [
    "## Iterating over matches\n",
    "\n",
    "* A pattern can match more than once\n",
    "\n",
    "* Example above: \n",
    "\n",
    "    ```python\n",
    "    html_sting = '<html><head><title>Title</title>'\n",
    "    pattern = r'<.*?>'\n",
    "    ```\n",
    "    \n",
    "    matches `<html>` `<head>`, `<title>` and `</title>`\n",
    "    \n",
    "* `search()` function or method only returns first match\n",
    "\n",
    "* Use function/method `findall` or `finditer` to obtain all non-overlapping matches"
   ]
  },
  {
   "cell_type": "markdown",
   "metadata": {
    "slideshow": {
     "slide_type": "subslide"
    }
   },
   "source": [
    "### `re.finditer(pattern, string)` / `patobj.finditer(string)`\n",
    "\n",
    "Return an iterator over all non-overlapping matches in the string.  For each match, the iterator returns a match object.\n",
    "\n",
    "Empty matches are included in the result."
   ]
  },
  {
   "cell_type": "code",
   "execution_count": 15,
   "metadata": {
    "slideshow": {
     "slide_type": "fragment"
    }
   },
   "outputs": [
    {
     "name": "stdout",
     "output_type": "stream",
     "text": [
      "matching: <html>\n",
      "matching: <head>\n",
      "matching: <title>\n",
      "matching: </title>\n"
     ]
    }
   ],
   "source": [
    "html_string = '<html><head><title>Title</title>'\n",
    "pattern = r'<.*?>'\n",
    "\n",
    "matches = re.finditer(pattern, html_string)\n",
    "\n",
    "for match in matches:\n",
    "    print('matching:', match[0])"
   ]
  },
  {
   "cell_type": "code",
   "execution_count": 16,
   "metadata": {
    "slideshow": {
     "slide_type": "fragment"
    }
   },
   "outputs": [
    {
     "name": "stdout",
     "output_type": "stream",
     "text": [
      "match: <html>\n",
      "match: <head>\n",
      "match: <title>\n",
      "match: </title>\n"
     ]
    }
   ],
   "source": [
    "html_string = '<html><head><title>Title</title>'\n",
    "pattern = r'<.*?>'\n",
    "patobj = re.compile(pattern)\n",
    "\n",
    "matches = patobj.finditer(html_string)\n",
    "\n",
    "for match in matches:\n",
    "    print('match:', match[0])"
   ]
  },
  {
   "cell_type": "markdown",
   "metadata": {
    "slideshow": {
     "slide_type": "subslide"
    }
   },
   "source": [
    "### `re.findall(pattern, string)` / `patobj.findall(string)`\n",
    "    \n",
    "Return a list of all non-overlapping matches in the string.\n",
    "\n",
    "If one or more capturing groups are present in the pattern, return a list of groups; this will be a list of tuples if the pattern has more than one group.\n",
    "\n",
    "Empty matches are included in the result."
   ]
  },
  {
   "cell_type": "code",
   "execution_count": 17,
   "metadata": {
    "slideshow": {
     "slide_type": "fragment"
    }
   },
   "outputs": [
    {
     "name": "stdout",
     "output_type": "stream",
     "text": [
      "['<html>', '<head>', '<title>', '</title>']\n"
     ]
    }
   ],
   "source": [
    "html_string = '<html><head><title>Title</title>'\n",
    "pattern = r'<.*?>'\n",
    "\n",
    "matching_strings = re.findall(pattern, html_string)\n",
    "\n",
    "print(matching_strings)"
   ]
  },
  {
   "cell_type": "code",
   "execution_count": 18,
   "metadata": {
    "slideshow": {
     "slide_type": "fragment"
    }
   },
   "outputs": [
    {
     "name": "stdout",
     "output_type": "stream",
     "text": [
      "['<html>', '<head>', '<title>', '</title>']\n"
     ]
    }
   ],
   "source": [
    "html_string = '<html><head><title>Title</title>'\n",
    "pattern = r'<.*?>'\n",
    "patobj = re.compile(pattern)\n",
    "\n",
    "matching_strings = patobj.findall(html_string)\n",
    "\n",
    "print(matching_strings)"
   ]
  },
  {
   "cell_type": "markdown",
   "metadata": {
    "slideshow": {
     "slide_type": "slide"
    }
   },
   "source": [
    "## Flags\n",
    "\n",
    "* Flags change matching behaviour\n",
    "\n",
    "* Specify flags as additional argument of following functions:\n",
    "\n",
    "    * `re.compile(pattern, flags=0)`\n",
    "    * `re.match(pattern, string, flags=0)`\n",
    "    * `re.search(pattern, string, flags=0)`\n",
    "    * `re.finditer(pattern, string, flags=0)`\n",
    "    * `re.findall(pattern, string, flags=0)`\n",
    "    \n",
    "* Remark: Flags can also be encoded into pattern itself (see documentation)"
   ]
  },
  {
   "cell_type": "markdown",
   "metadata": {
    "slideshow": {
     "slide_type": "subslide"
    }
   },
   "source": [
    "### Available Flags\n",
    "\n",
    "* `re.ASCII` / `re.A`\n",
    "\n",
    "    Make `\\w`, `\\W`, `\\b`, `\\B`, `\\d`, `\\D`\n",
    "    match the corresponding ASCII character categories.\n",
    "    \n",
    "* `re.IGNORECASE` / `re.I`\n",
    "\n",
    "    Perform case-insensitive matching.\n",
    "    \n",
    "* `re.LOCALE` / `re.L`\n",
    "\n",
    "    Make `\\w`, `\\W`, `\\b`, `\\B`, dependent on the current locale."
   ]
  },
  {
   "cell_type": "markdown",
   "metadata": {
    "slideshow": {
     "slide_type": "subslide"
    }
   },
   "source": [
    "* `re.MULTILINE` / `re.M`\n",
    "\n",
    "    `^` matches the beginning of lines (after a newline) as well as the string.\n",
    "\n",
    "    `$` matches the end of lines (before a newline) as well as the end of the string.\n",
    "\n",
    "* `re.DOTALL` / `re.D`\n",
    "\n",
    "    `.` matches any character at all, including the newline.\n",
    "    \n",
    "* `re.VERBOSE` / `re.X`\n",
    "\n",
    "    Ignore whitespace and comments for nicer looking RE's.\n",
    "    \n",
    "    * Useful for complex regular expressions\n",
    "    \n",
    "    * Allows commenting parts of regular expressions"
   ]
  },
  {
   "cell_type": "markdown",
   "metadata": {
    "slideshow": {
     "slide_type": "subslide"
    }
   },
   "source": [
    "### Example"
   ]
  },
  {
   "cell_type": "code",
   "execution_count": 19,
   "metadata": {
    "slideshow": {
     "slide_type": "-"
    }
   },
   "outputs": [
    {
     "name": "stdout",
     "output_type": "stream",
     "text": [
      "Fred\n",
      "Freda\n",
      "Frederick\n",
      "Manfred\n"
     ]
    }
   ],
   "source": [
    "pattern = r'fred'\n",
    "\n",
    "# compile using case insensitive flag\n",
    "regobj = re.compile(pattern, re.I) \n",
    "\n",
    "with open(NAMES) as names:\n",
    "    for name in names:\n",
    "        result = regobj.search(name)\n",
    "        if result:\n",
    "            print(name, end='')\n"
   ]
  },
  {
   "cell_type": "markdown",
   "metadata": {
    "slideshow": {
     "slide_type": "subslide"
    }
   },
   "source": [
    "### Combine Flags\n",
    "\n",
    "* Flags can be combined\n",
    "\n",
    "* Each flag's binary pattern has exactly one bit set\n",
    "\n",
    "* User binary \"or\" to combine flags\n",
    "\n",
    "* Example\n",
    "\n",
    "    ```python\n",
    "    regobj = re.compile(pattern, re.M | re.I)\n",
    "    ```"
   ]
  },
  {
   "cell_type": "markdown",
   "metadata": {
    "slideshow": {
     "slide_type": "slide"
    }
   },
   "source": [
    "# Practical Examples"
   ]
  },
  {
   "cell_type": "markdown",
   "metadata": {},
   "source": [
    "## Atoms\n",
    "\n",
    "* [atoms.log](X1_Files/atoms.log): Output from different computation runs\n",
    "\n",
    "* Runs without errors:\n",
    "    \n",
    "    ```\n",
    "    RUN 000013 COMPLETED. OUTPUT IN FILE aluminium.dat.\n",
    "    RUN 000014 COMPLETED. OUTPUT IN FILE silicon.dat.\n",
    "    RUN 000015 COMPLETED. OUTPUT IN FILE phosphorus.dat.\n",
    "    ```\n",
    "\n",
    "* Runs with errors or warnings:\n",
    "    \n",
    "    ```\n",
    "    RUN 000039 COMPLETED. OUTPUT IN FILE yttrium.dat. 1 UNDERFLOW WARNING.\n",
    "    RUN 000040 COMPLETED. OUTPUT IN FILE zirconium.dat. 2 UNDERFLOW WARNINGS.\n",
    "    RUN 000058 COMPLETED. OUTPUT IN FILE cerium.dat. ALGORITHM DID NOT CONVERGE AFTER 100000 ITERATIONS.\n",
    "    ```\n",
    "\n",
    "* Task: Get lines without warnings or errors\n",
    "\n",
    "    * Skeleton: [get_successful_runs.py](X1_Files/get_successful_runs.py)\n",
    "    \n",
    "    * Solution: [get_successful_runs_solution.py](X1_Files/get_successful_runs_solution.py)"
   ]
  },
  {
   "cell_type": "markdown",
   "metadata": {
    "slideshow": {
     "slide_type": "subslide"
    }
   },
   "source": [
    "## Hack Attempts\n",
    "\n",
    "* [messages](X1_Files/messages): Server log file\n",
    "\n",
    "* Logs that indicate hack attempt:\n",
    "    \n",
    "    ```\n",
    "    Jun 25 23:47:33 noether sshd[9277]: Invalid user account from 207.54.140.124\n",
    "    Jun 25 23:47:34 noether sshd[9282]: Invalid user adam from 207.54.140.124\n",
    "    Jul  1 07:41:11 noether sshd[14506]: Invalid user test from 210.51.172.168\n",
    "    Jul  1 07:41:14 noether sshd[14511]: Invalid user guest from 210.51.172.168\n",
    "    ```\n",
    "\n",
    "* Task: Filter hack attempts\n",
    "\n",
    "    * Skeletons: \n",
    "        * [get_hack_attempts.py](X1_Files/get_hack_attempts.py)\n",
    "        * [get_hack_attempts_verbose.py](X1_Files/get_hack_attempts_verbose.py)\n",
    "    \n",
    "    * Solutions: \n",
    "        * [get_hack_attempts_solution.py](X1_Files/get_hack_attempts.py)\n",
    "        * [get_hack_attempts_verbose_solution.py](X1_Files/get_hack_attempts_verbose_solution.py)"
   ]
  },
  {
   "cell_type": "markdown",
   "metadata": {
    "slideshow": {
     "slide_type": "subslide"
    }
   },
   "source": [
    "## Boiling Temperatures\n",
    "\n",
    "* [boil.txt](X1_Files/boil.txt): Text file with boiling temperatures of elements\n",
    "\n",
    "* A line may hold more than one entry:\n",
    "    \n",
    "    ```\n",
    "    Ar 87.3\n",
    "    Re 5900.0 Ra 2010.0\n",
    "    K 1032.0 Rn 211.3 Rh 3968.0\n",
    "    Be 2742.0 Ba 2170.0\n",
    "    ```\n",
    "\n",
    "* Task: Extract element names and boiling temperatures\n",
    "\n",
    "    * Skeleton: [get_boiling_temp.py](X1_Files/get_boiling_temp.py)\n",
    "    \n",
    "    * Solution: [get_boiling_temp_solution.py](X1_Files/get_boiling_temp_solution.py)"
   ]
  }
 ],
 "metadata": {
  "celltoolbar": "Slideshow",
  "kernelspec": {
   "display_name": "Python 3",
   "language": "python",
   "name": "python3"
  },
  "language_info": {
   "codemirror_mode": {
    "name": "ipython",
    "version": 3
   },
   "file_extension": ".py",
   "mimetype": "text/x-python",
   "name": "python",
   "nbconvert_exporter": "python",
   "pygments_lexer": "ipython3",
   "version": "3.7.3"
  },
  "rise": {
   "scroll": true,
   "theme": "sky"
  }
 },
 "nbformat": 4,
 "nbformat_minor": 2
}
